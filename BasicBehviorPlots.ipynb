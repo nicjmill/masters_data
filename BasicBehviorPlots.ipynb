{
  "nbformat": 4,
  "nbformat_minor": 0,
  "metadata": {
    "colab": {
      "provenance": [],
      "authorship_tag": "ABX9TyMFWKXVTQ2OXOwG4Yn4BPwd",
      "include_colab_link": true
    },
    "kernelspec": {
      "name": "python3",
      "display_name": "Python 3"
    },
    "language_info": {
      "name": "python"
    }
  },
  "cells": [
    {
      "cell_type": "markdown",
      "metadata": {
        "id": "view-in-github",
        "colab_type": "text"
      },
      "source": [
        "<a href=\"https://colab.research.google.com/github/nicjmill/masters_data/blob/main/BasicBehviorPlots.ipynb\" target=\"_parent\"><img src=\"https://colab.research.google.com/assets/colab-badge.svg\" alt=\"Open In Colab\"/></a>"
      ]
    },
    {
      "cell_type": "code",
      "execution_count": null,
      "metadata": {
        "id": "9BUHFrDEnGbs"
      },
      "outputs": [],
      "source": [
        "#Import necessary libraries\n",
        "import numpy as np\n",
        "import pandas as pd\n",
        "import os\n",
        "import matplotlib.pyplot as plt"
      ]
    },
    {
      "cell_type": "code",
      "source": [
        "#Connecting\n",
        "from google.colab import drive\n",
        "drive.mount('/content/gdrive')"
      ],
      "metadata": {
        "id": "sIYb1I7OoQ_m",
        "colab": {
          "base_uri": "https://localhost:8080/"
        },
        "outputId": "7a63846c-ccef-4dad-fba8-c97f50035a67"
      },
      "execution_count": null,
      "outputs": [
        {
          "output_type": "stream",
          "name": "stdout",
          "text": [
            "Mounted at /content/gdrive\n"
          ]
        }
      ]
    },
    {
      "cell_type": "code",
      "source": [
        "os.chdir(\"/content/gdrive/My Drive/mastersdata\")\n",
        "\n",
        "!ls"
      ],
      "metadata": {
        "id": "Hw8qoTTo5wsL",
        "colab": {
          "base_uri": "https://localhost:8080/"
        },
        "outputId": "e5e40097-959d-47ef-b28b-8c93b9777216"
      },
      "execution_count": null,
      "outputs": [
        {
          "output_type": "stream",
          "name": "stdout",
          "text": [
            " 20221122_CohortBBaseline_RunStatistics.csv   'Cohort C VF'\n",
            " 20221122_CohortBBaseline_RunStatistics.xlsx   FlurogoldResults.csv\n",
            " b_beamwalk.csv\t\t\t\t       IMG_0646.MOV\n",
            " b_hladder.csv\t\t\t\t       IMG_0704.MOV\n",
            " b_vonfrey.csv\t\t\t\t       IMG_0707.MOV\n",
            "'Cohort C BW'\t\t\t\t      'Practice DLC File'\n",
            "'Cohort C HP'\n"
          ]
        }
      ]
    },
    {
      "cell_type": "code",
      "source": [
        "path_bw = '/content/gdrive/My Drive/mastersdata/b_beamwalk.csv'\n",
        "b_bw = pd.read_csv(path_bw)\n",
        "\n",
        "path_vf = '/content/gdrive/My Drive/mastersdata/b_vonfrey.csv'\n",
        "b_vf = pd.read_csv(path_vf)\n",
        "\n",
        "path_hl = '/content/gdrive/My Drive/mastersdata/b_hladder.csv'\n",
        "b_hl = pd.read_csv(path_hl)\n",
        "\n",
        "path_cw = '/content/gdrive/My Drive/mastersdata/20221122_CohortBBaseline_RunStatistics.csv'\n",
        "b_cw = pd.read_csv(path_cw)"
      ],
      "metadata": {
        "id": "pL-HK-Ef4tUh"
      },
      "execution_count": null,
      "outputs": []
    },
    {
      "cell_type": "code",
      "source": [],
      "metadata": {
        "id": "QgvsIlfgZ3j7"
      },
      "execution_count": null,
      "outputs": []
    }
  ]
}